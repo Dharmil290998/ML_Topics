{
 "cells": [
  {
   "cell_type": "code",
   "execution_count": 1,
   "id": "121a2a9a",
   "metadata": {},
   "outputs": [],
   "source": [
    "import numpy as np"
   ]
  },
  {
   "cell_type": "markdown",
   "id": "0536cfa5",
   "metadata": {},
   "source": [
    "<h2>For 2 x 2 Metrix :</h2>"
   ]
  },
  {
   "cell_type": "code",
   "execution_count": 22,
   "id": "3b2ed6f0",
   "metadata": {},
   "outputs": [],
   "source": [
    "df = np.array([[5, 4],\n",
    "              [2,  3]])"
   ]
  },
  {
   "cell_type": "code",
   "execution_count": 11,
   "id": "e5584961",
   "metadata": {},
   "outputs": [],
   "source": [
    "# Finding the eigenvalues and eigenvectors\n",
    "eigenvalues, eigenvectors = np.linalg.eig(df)"
   ]
  },
  {
   "cell_type": "code",
   "execution_count": 12,
   "id": "9e480eb2",
   "metadata": {},
   "outputs": [
    {
     "name": "stdout",
     "output_type": "stream",
     "text": [
      "Eigenvalues:\n",
      "[7. 1.]\n"
     ]
    }
   ],
   "source": [
    "print(\"Eigenvalues:\")\n",
    "print(eigenvalues)"
   ]
  },
  {
   "cell_type": "code",
   "execution_count": 13,
   "id": "df1349c0",
   "metadata": {},
   "outputs": [
    {
     "name": "stdout",
     "output_type": "stream",
     "text": [
      "Eigenvectors:\n",
      "[[ 0.89442719 -0.70710678]\n",
      " [ 0.4472136   0.70710678]]\n"
     ]
    }
   ],
   "source": [
    "print(\"Eigenvectors:\")\n",
    "print(eigenvectors)"
   ]
  },
  {
   "cell_type": "code",
   "execution_count": null,
   "id": "d6adf1a0",
   "metadata": {},
   "outputs": [],
   "source": []
  },
  {
   "cell_type": "markdown",
   "id": "6b3fb03a",
   "metadata": {},
   "source": [
    "<h2>For 3 x 3 Metrix :</h2>"
   ]
  },
  {
   "cell_type": "code",
   "execution_count": 18,
   "id": "3e76a933",
   "metadata": {},
   "outputs": [],
   "source": [
    "\n",
    "df = np.array([[3, -4, 5],\n",
    "              [1, 2, 3],\n",
    "              [9, 8, 7]])"
   ]
  },
  {
   "cell_type": "code",
   "execution_count": 19,
   "id": "a00b3e7a",
   "metadata": {},
   "outputs": [],
   "source": [
    "# Finding the eigenvalues and eigenvectors\n",
    "eigenvalues, eigenvectors = np.linalg.eig(df)"
   ]
  },
  {
   "cell_type": "code",
   "execution_count": 20,
   "id": "83dee724",
   "metadata": {},
   "outputs": [
    {
     "name": "stdout",
     "output_type": "stream",
     "text": [
      "Eigenvalues:\n",
      "[12.89897949  3.10102051 -4.        ]\n"
     ]
    }
   ],
   "source": [
    "print(\"Eigenvalues:\")\n",
    "print(eigenvalues)"
   ]
  },
  {
   "cell_type": "code",
   "execution_count": 21,
   "id": "466250ec",
   "metadata": {},
   "outputs": [
    {
     "name": "stdout",
     "output_type": "stream",
     "text": [
      "Eigenvectors:\n",
      "[[-0.34101066 -0.69549388 -0.65306893]\n",
      " [-0.27843404  0.56786837 -0.24878817]\n",
      " [-0.89787873  0.44024287  0.71526598]]\n"
     ]
    }
   ],
   "source": [
    "print(\"Eigenvectors:\")\n",
    "print(eigenvectors)"
   ]
  },
  {
   "cell_type": "code",
   "execution_count": null,
   "id": "d9eb0d44",
   "metadata": {},
   "outputs": [],
   "source": []
  }
 ],
 "metadata": {
  "kernelspec": {
   "display_name": "Python 3 (ipykernel)",
   "language": "python",
   "name": "python3"
  },
  "language_info": {
   "codemirror_mode": {
    "name": "ipython",
    "version": 3
   },
   "file_extension": ".py",
   "mimetype": "text/x-python",
   "name": "python",
   "nbconvert_exporter": "python",
   "pygments_lexer": "ipython3",
   "version": "3.11.4"
  }
 },
 "nbformat": 4,
 "nbformat_minor": 5
}
